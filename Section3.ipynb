{
 "cells": [
  {
   "cell_type": "code",
   "execution_count": 35,
   "metadata": {},
   "outputs": [],
   "source": [
    "def cal_score(ls, head_prop):\n",
    "    score = 0\n",
    "    count = 0\n",
    "    prop = 1\n",
    "    while count < len(ls):\n",
    "        if ls[count] == 1:\n",
    "            score += 1\n",
    "            prop *= head_prop\n",
    "        else:\n",
    "            score *= 2\n",
    "            prop *= (1 - head_prop)\n",
    "        count += 1\n",
    "    return score * prop\n",
    "    "
   ]
  },
  {
   "cell_type": "code",
   "execution_count": 48,
   "metadata": {},
   "outputs": [],
   "source": [
    "def is_power_of_2(n):\n",
    "    if n == 0: return False\n",
    "    return n&(n-1) == 0\n",
    "\n",
    "def cal_power_score(ls, head_prop):\n",
    "    score = 0\n",
    "    count = 0\n",
    "    prop = 1\n",
    "    while count < len(ls):\n",
    "        if ls[count] == 1:\n",
    "            score += 1\n",
    "            prop *= head_prop\n",
    "        else:\n",
    "            score *= 2\n",
    "            prop *= (1 - head_prop)\n",
    "        count += 1\n",
    "    if is_power_of_2(score):\n",
    "        return prop\n",
    "    else:\n",
    "        return 0"
   ]
  },
  {
   "cell_type": "code",
   "execution_count": 36,
   "metadata": {},
   "outputs": [],
   "source": [
    "def cal_squared_score(ls, head_prop):\n",
    "    score = 0\n",
    "    count = 0\n",
    "    prop = 1\n",
    "    while count < len(ls):\n",
    "        if ls[count] == 1:\n",
    "            score += 1\n",
    "            prop *= head_prop\n",
    "        else:\n",
    "            score *= 2\n",
    "            prop *= (1 - head_prop)\n",
    "        count += 1\n",
    "    return (score ** 2) * prop"
   ]
  },
  {
   "cell_type": "code",
   "execution_count": 37,
   "metadata": {},
   "outputs": [],
   "source": [
    "def dfs(i, times, res, cur_res):\n",
    "    \n",
    "    if i== times:\n",
    "        res.append(cur_res[::])\n",
    "        return\n",
    "    for next_item in [0,1]:\n",
    "        cur_res.append(next_item)\n",
    "        dfs(i+1, times, res, cur_res)\n",
    "        cur_res.pop()"
   ]
  },
  {
   "cell_type": "code",
   "execution_count": 38,
   "metadata": {},
   "outputs": [],
   "source": [
    "def permute(times, head_prop):\n",
    "    import numpy as np\n",
    "    res = []\n",
    "    cur_res = []\n",
    "    dfs(0, times, res, cur_res)\n",
    "    score_ls = []\n",
    "    for ls in res:\n",
    "        cur_score = cal_score(ls, head_prop)\n",
    "        score_ls.append(cur_score)\n",
    "    return np.array(score_ls).sum()\n",
    "    "
   ]
  },
  {
   "cell_type": "code",
   "execution_count": 39,
   "metadata": {},
   "outputs": [],
   "source": [
    "def permute_square(times, head_prop):\n",
    "    import numpy as np\n",
    "    res = []\n",
    "    cur_res = []\n",
    "    dfs(0, times, res, cur_res)\n",
    "    score_ls = []\n",
    "    for ls in res:\n",
    "        cur_score = cal_squared_score(ls, head_prop)\n",
    "        score_ls.append(cur_score)\n",
    "    return np.array(score_ls).sum()"
   ]
  },
  {
   "cell_type": "code",
   "execution_count": 49,
   "metadata": {},
   "outputs": [],
   "source": [
    "def permute_power(times, head_prop):\n",
    "    import numpy as np\n",
    "    res = []\n",
    "    cur_res = []\n",
    "    dfs(0, times, res, cur_res)\n",
    "    score_ls = []\n",
    "    for ls in res:\n",
    "        cur_score = cal_power_score(ls, head_prop)\n",
    "        score_ls.append(cur_score)\n",
    "    return np.array(score_ls).sum()\n",
    "    "
   ]
  },
  {
   "cell_type": "code",
   "execution_count": 59,
   "metadata": {},
   "outputs": [
    {
     "data": {
      "text/plain": [
       "6.59375"
      ]
     },
     "execution_count": 59,
     "metadata": {},
     "output_type": "execute_result"
    }
   ],
   "source": [
    "### question 1\n",
    "permute(5, 0.5)"
   ]
  },
  {
   "cell_type": "code",
   "execution_count": 65,
   "metadata": {},
   "outputs": [
    {
     "data": {
      "text/plain": [
       "3.7902784775659955"
      ]
     },
     "execution_count": 65,
     "metadata": {},
     "output_type": "execute_result"
    }
   ],
   "source": [
    "### question 2,  var = exp(x**2) - exp(x) ** 2\n",
    "np.sqrt(permute_square(5, 0.5) - permute(5, 0.5) ** 2)"
   ]
  },
  {
   "cell_type": "code",
   "execution_count": 66,
   "metadata": {},
   "outputs": [
    {
     "data": {
      "text/plain": [
       "436.8938903808594"
      ]
     },
     "execution_count": 66,
     "metadata": {},
     "output_type": "execute_result"
    }
   ],
   "source": [
    "### question 3\n",
    "permute(15, 0.5)"
   ]
  },
  {
   "cell_type": "code",
   "execution_count": 67,
   "metadata": {},
   "outputs": [
    {
     "data": {
      "text/plain": [
       "655.4142845568359"
      ]
     },
     "execution_count": 67,
     "metadata": {},
     "output_type": "execute_result"
    }
   ],
   "source": [
    "### question 4,  var = exp(x**2) - exp(x) ** 2\n",
    "np.sqrt(permute_square(15, 0.5) - permute(15, 0.5) ** 2)"
   ]
  },
  {
   "cell_type": "code",
   "execution_count": 68,
   "metadata": {},
   "outputs": [
    {
     "data": {
      "text/plain": [
       "33.515453267625205"
      ]
     },
     "execution_count": 68,
     "metadata": {},
     "output_type": "execute_result"
    }
   ],
   "source": [
    "### question 5\n",
    "permute(10, 2/3)"
   ]
  },
  {
   "cell_type": "code",
   "execution_count": 69,
   "metadata": {},
   "outputs": [
    {
     "data": {
      "text/plain": [
       "29.25206805903442"
      ]
     },
     "execution_count": 69,
     "metadata": {},
     "output_type": "execute_result"
    }
   ],
   "source": [
    "### question 6,  var = exp(x**2) - exp(x) ** 2\n",
    "np.sqrt(permute_square(10, 2/3) - permute(10, 2/3) ** 2)"
   ]
  },
  {
   "cell_type": "code",
   "execution_count": 78,
   "metadata": {},
   "outputs": [
    {
     "name": "stdout",
     "output_type": "stream",
     "text": [
      "0.23232323232323235\n",
      "0.22895622895622897\n",
      "0.22893355553288214\n",
      "0.2289340968634671\n",
      "0.2289341313538385\n"
     ]
    }
   ],
   "source": [
    "#### question 7\n",
    "epislon = 10 ** -8\n",
    "start, end = 0, 1\n",
    "prop_ls = []\n",
    "expectation_ls = []\n",
    "while (end - start) > epislon:\n",
    "    for i in np.linspace(start, end, 100):\n",
    "        new_prop = i\n",
    "        prop_ls.append(i)\n",
    "        expectation_ls.append(permute(10, new_prop))\n",
    "    max_idx = np.argmax(expectation_ls)\n",
    "    print(prop_ls[max_idx])\n",
    "    start, end = prop_ls[max_idx-1], prop_ls[max_idx+1]\n",
    "    prop_ls = []\n",
    "    expectation_ls = []"
   ]
  },
  {
   "cell_type": "code",
   "execution_count": 11,
   "metadata": {},
   "outputs": [],
   "source": [
    "# import random\n",
    "# def find_score(num_of_times, head_pro):\n",
    "    \n",
    "#     score = 0\n",
    "#     count = 0\n",
    "#     cur_choice = None\n",
    "#     while count < num_of_times:\n",
    "#         cur_choice = random.random()\n",
    "#         if cur_choice > head_pro:\n",
    "#             ### we get a tail\n",
    "#             score *= 2\n",
    "#         else:\n",
    "#             score += 1\n",
    "#         count+=1\n",
    "#     return score"
   ]
  },
  {
   "cell_type": "code",
   "execution_count": 16,
   "metadata": {},
   "outputs": [],
   "source": [
    "# def get_power_prop(num_of_times, head_pro):\n",
    "#     count = 0\n",
    "#     res = []\n",
    "#     while count < 20000:\n",
    "#         if count % 100:\n",
    "#             print(count)\n",
    "#         new_score = find_score(num_of_times, head_pro)\n",
    "#         count += 1\n",
    "#         if is_power_of_2(new_score):\n",
    "#             res.append(1)\n",
    "#         else:\n",
    "#             res.append(0)\n",
    "#     assert len(res) == count, \"res and count has different length\"\n",
    "#     return sum(res)/len(res)\n"
   ]
  },
  {
   "cell_type": "code",
   "execution_count": null,
   "metadata": {},
   "outputs": [],
   "source": [
    "# power_props = []\n",
    "# for _ in range(5000):\n",
    "#     power_props.append(get_power_prop(10,0.5))\n",
    "# print(np.mean(np.array(power_props))"
   ]
  },
  {
   "cell_type": "code",
   "execution_count": 55,
   "metadata": {},
   "outputs": [],
   "source": [
    "# import numpy as np\n",
    "# def multiple_tests(num_of_times, head_pro):\n",
    "#     epislon = 10 ** -5\n",
    "#     mean, count = 0, 0\n",
    "#     last_mean = None\n",
    "#     res = []\n",
    "#     while count < 5000:\n",
    "#         if count % 100:\n",
    "#             print(count)\n",
    "#         last_mean = mean\n",
    "#         new_score = find_score(num_of_times, head_pro)\n",
    "#         mean = mean * (count/(count+1)) + new_score * (1/(count+1))\n",
    "#         count += 1\n",
    "#         res.append(new_score)\n",
    "#     return np.mean(np.array(res)), np.std(np.array(res))\n",
    "# mean_ls, std_ls = [], []\n",
    "# for _ in range(500):\n",
    "#     mean, std = multiple_tests(15, 0.5)\n",
    "#     mean_ls.append(mean)\n",
    "#     std_ls.append(std)\n",
    "# print(np.mean(np.array(mean_ls)), np.mean(np.array(std_ls)))"
   ]
  },
  {
   "cell_type": "code",
   "execution_count": null,
   "metadata": {},
   "outputs": [],
   "source": []
  }
 ],
 "metadata": {
  "kernelspec": {
   "display_name": "Python 3",
   "language": "python",
   "name": "python3"
  },
  "language_info": {
   "codemirror_mode": {
    "name": "ipython",
    "version": 3
   },
   "file_extension": ".py",
   "mimetype": "text/x-python",
   "name": "python",
   "nbconvert_exporter": "python",
   "pygments_lexer": "ipython3",
   "version": "3.7.1"
  }
 },
 "nbformat": 4,
 "nbformat_minor": 2
}
