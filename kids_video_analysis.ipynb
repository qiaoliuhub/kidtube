{
 "cells": [
  {
   "cell_type": "markdown",
   "metadata": {},
   "source": [
    "## Get collected meta data"
   ]
  },
  {
   "cell_type": "code",
   "execution_count": 1,
   "metadata": {},
   "outputs": [],
   "source": [
    "import pandas as pd"
   ]
  },
  {
   "cell_type": "code",
   "execution_count": 2,
   "metadata": {},
   "outputs": [],
   "source": [
    "kids_video_game = pd.read_csv('/Users/QiaoLiu1/kids_tube/video_details/video_details_kids_video_game.csv', \n",
    "                             index_col = 0)"
   ]
  },
  {
   "cell_type": "code",
   "execution_count": 3,
   "metadata": {},
   "outputs": [
    {
     "data": {
      "text/html": [
       "<div>\n",
       "<style scoped>\n",
       "    .dataframe tbody tr th:only-of-type {\n",
       "        vertical-align: middle;\n",
       "    }\n",
       "\n",
       "    .dataframe tbody tr th {\n",
       "        vertical-align: top;\n",
       "    }\n",
       "\n",
       "    .dataframe thead th {\n",
       "        text-align: right;\n",
       "    }\n",
       "</style>\n",
       "<table border=\"1\" class=\"dataframe\">\n",
       "  <thead>\n",
       "    <tr style=\"text-align: right;\">\n",
       "      <th></th>\n",
       "      <th>video</th>\n",
       "      <th>title</th>\n",
       "      <th>tags</th>\n",
       "      <th>description</th>\n",
       "      <th>category</th>\n",
       "      <th>caption</th>\n",
       "    </tr>\n",
       "  </thead>\n",
       "  <tbody>\n",
       "    <tr>\n",
       "      <td>0</td>\n",
       "      <td>yTqsHkxuna0</td>\n",
       "      <td>Sky: Children of the Light | Most Relaxing Gam...</td>\n",
       "      <td>Cryy,cryyfuu,sky: children of the light,sky: c...</td>\n",
       "      <td>I stumbled across this mobile / iOS game title...</td>\n",
       "      <td>Kids video game play</td>\n",
       "      <td>False</td>\n",
       "    </tr>\n",
       "    <tr>\n",
       "      <td>1</td>\n",
       "      <td>mYyaScLzieI</td>\n",
       "      <td>Snowboard Kids (N64) Gameplay</td>\n",
       "      <td>snowboard,kids,n64,nintendo,64,gameplay</td>\n",
       "      <td>Gameplay footage of Snowboard Kids on Nintendo...</td>\n",
       "      <td>Kids video game play</td>\n",
       "      <td>False</td>\n",
       "    </tr>\n",
       "    <tr>\n",
       "      <td>2</td>\n",
       "      <td>36seSrWXJOQ</td>\n",
       "      <td>AVENGERS Cartoon Game Videos for Kids - Video ...</td>\n",
       "      <td>avengers,avengers cartoon,kids videos for kids...</td>\n",
       "      <td>Disney Infinity 3.0 Marvel Battlegrounds video...</td>\n",
       "      <td>Kids video game play</td>\n",
       "      <td>False</td>\n",
       "    </tr>\n",
       "    <tr>\n",
       "      <td>3</td>\n",
       "      <td>i22Pp2Th7yA</td>\n",
       "      <td>My Virtual Pet Shop - Fun Kids Game for iPhone...</td>\n",
       "      <td>IPhone (Mobile Phone),Android (Software),Game,...</td>\n",
       "      <td>Download on the App Store: https://itunes.appl...</td>\n",
       "      <td>Kids video game play</td>\n",
       "      <td>False</td>\n",
       "    </tr>\n",
       "    <tr>\n",
       "      <td>4</td>\n",
       "      <td>Am6h1v6ACqQ</td>\n",
       "      <td>지네 장난감 곤충 장난감 숨바꼭질 놀이 Surprise Toy for Kids Ga...</td>\n",
       "      <td>With Kids,위드키즈,키즈유튜브,예준이,jacob,kids,indoor pla...</td>\n",
       "      <td>Surprise Toy for Kids with papa Funny Video fo...</td>\n",
       "      <td>Kids video game play</td>\n",
       "      <td>False</td>\n",
       "    </tr>\n",
       "  </tbody>\n",
       "</table>\n",
       "</div>"
      ],
      "text/plain": [
       "         video                                              title  \\\n",
       "0  yTqsHkxuna0  Sky: Children of the Light | Most Relaxing Gam...   \n",
       "1  mYyaScLzieI                      Snowboard Kids (N64) Gameplay   \n",
       "2  36seSrWXJOQ  AVENGERS Cartoon Game Videos for Kids - Video ...   \n",
       "3  i22Pp2Th7yA  My Virtual Pet Shop - Fun Kids Game for iPhone...   \n",
       "4  Am6h1v6ACqQ  지네 장난감 곤충 장난감 숨바꼭질 놀이 Surprise Toy for Kids Ga...   \n",
       "\n",
       "                                                tags  \\\n",
       "0  Cryy,cryyfuu,sky: children of the light,sky: c...   \n",
       "1            snowboard,kids,n64,nintendo,64,gameplay   \n",
       "2  avengers,avengers cartoon,kids videos for kids...   \n",
       "3  IPhone (Mobile Phone),Android (Software),Game,...   \n",
       "4  With Kids,위드키즈,키즈유튜브,예준이,jacob,kids,indoor pla...   \n",
       "\n",
       "                                         description              category  \\\n",
       "0  I stumbled across this mobile / iOS game title...  Kids video game play   \n",
       "1  Gameplay footage of Snowboard Kids on Nintendo...  Kids video game play   \n",
       "2  Disney Infinity 3.0 Marvel Battlegrounds video...  Kids video game play   \n",
       "3  Download on the App Store: https://itunes.appl...  Kids video game play   \n",
       "4  Surprise Toy for Kids with papa Funny Video fo...  Kids video game play   \n",
       "\n",
       "   caption  \n",
       "0    False  \n",
       "1    False  \n",
       "2    False  \n",
       "3    False  \n",
       "4    False  "
      ]
     },
     "execution_count": 3,
     "metadata": {},
     "output_type": "execute_result"
    }
   ],
   "source": [
    "kids_video_game.head()"
   ]
  },
  {
   "cell_type": "markdown",
   "metadata": {},
   "source": [
    "###  Input stopword, word and "
   ]
  },
  {
   "cell_type": "code",
   "execution_count": 5,
   "metadata": {},
   "outputs": [
    {
     "name": "stderr",
     "output_type": "stream",
     "text": [
      "[nltk_data] Downloading package stopwords to\n",
      "[nltk_data]     /Users/QiaoLiu1/nltk_data...\n",
      "[nltk_data]   Package stopwords is already up-to-date!\n",
      "[nltk_data] Downloading package punkt to /Users/QiaoLiu1/nltk_data...\n",
      "[nltk_data]   Package punkt is already up-to-date!\n",
      "[nltk_data] Downloading package words to /Users/QiaoLiu1/nltk_data...\n",
      "[nltk_data]   Package words is already up-to-date!\n"
     ]
    }
   ],
   "source": [
    "import nltk\n",
    "nltk.download('stopwords')\n",
    "nltk.download('punkt')\n",
    "nltk.download('words')\n",
    "from nltk.corpus import stopwords\n",
    "from nltk.tokenize import word_tokenize\n",
    "from nltk.corpus import words\n",
    "stop_words = set(stopwords.words('english'))\n",
    "stopword_set = set(stopwords.words())\n",
    "word_set = set(words.words())\n"
   ]
  },
  {
   "cell_type": "markdown",
   "metadata": {},
   "source": [
    "## Prepare matplotlib parameters"
   ]
  },
  {
   "cell_type": "code",
   "execution_count": 6,
   "metadata": {},
   "outputs": [],
   "source": [
    "import matplotlib.pyplot as plt\n",
    "plt.switch_backend('Agg')\n",
    "### set up plotting parameters\n",
    "from matplotlib import rcParams\n",
    "plt.style.use('seaborn-poster')\n",
    "plt.rcParams['font.family'] = 'serif'\n",
    "rcParams['font.sans-serif'] = ['Palatino']\n",
    "rcParams['figure.max_open_warning'] = 30"
   ]
  },
  {
   "cell_type": "code",
   "execution_count": 7,
   "metadata": {},
   "outputs": [],
   "source": [
    "def remove_stop(text):\n",
    "    try:\n",
    "        text_tokens = word_tokenize(text)\n",
    "        tokens_without_sw = [word for word in text_tokens\n",
    "                             if (word.lower().strip() not in stopword_set) and (word.lower().strip() in word_set)]\n",
    "        return tokens_without_sw\n",
    "    except:\n",
    "        return ['']"
   ]
  },
  {
   "cell_type": "code",
   "execution_count": null,
   "metadata": {},
   "outputs": [],
   "source": [
    "### tags\n",
    "### 1. remove number\n",
    "### 2. lemma\n",
    "### 2. get bigram for each setence\n",
    "### 3. get trigram for each sentence"
   ]
  }
 ],
 "metadata": {
  "kernelspec": {
   "display_name": "Python 3",
   "language": "python",
   "name": "python3"
  },
  "language_info": {
   "codemirror_mode": {
    "name": "ipython",
    "version": 3
   },
   "file_extension": ".py",
   "mimetype": "text/x-python",
   "name": "python",
   "nbconvert_exporter": "python",
   "pygments_lexer": "ipython3",
   "version": "3.7.1"
  }
 },
 "nbformat": 4,
 "nbformat_minor": 2
}
