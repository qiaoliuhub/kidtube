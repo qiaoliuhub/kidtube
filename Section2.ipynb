{
 "cells": [
  {
   "cell_type": "code",
   "execution_count": 2,
   "metadata": {},
   "outputs": [
    {
     "name": "stderr",
     "output_type": "stream",
     "text": [
      "/Users/QiaoLiu1/anaconda3/envs/micro/lib/python3.7/site-packages/IPython/core/interactiveshell.py:3020: DtypeWarning: Columns (8,9,10,15,31,33,36,51) have mixed types. Specify dtype option on import or set low_memory=False.\n",
      "  interactivity=interactivity, compiler=compiler, result=result)\n"
     ]
    }
   ],
   "source": [
    "import pandas as pd\n",
    "historical_data = pd.read_csv('/Users/QiaoLiu1/Downloads/Historical_DOB_Permit_Issuance.csv')"
   ]
  },
  {
   "cell_type": "code",
   "execution_count": 5,
   "metadata": {},
   "outputs": [
    {
     "data": {
      "text/html": [
       "<div>\n",
       "<style scoped>\n",
       "    .dataframe tbody tr th:only-of-type {\n",
       "        vertical-align: middle;\n",
       "    }\n",
       "\n",
       "    .dataframe tbody tr th {\n",
       "        vertical-align: top;\n",
       "    }\n",
       "\n",
       "    .dataframe thead th {\n",
       "        text-align: right;\n",
       "    }\n",
       "</style>\n",
       "<table border=\"1\" class=\"dataframe\">\n",
       "  <thead>\n",
       "    <tr style=\"text-align: right;\">\n",
       "      <th></th>\n",
       "      <th>BOROUGH</th>\n",
       "      <th>BIN</th>\n",
       "      <th>Number</th>\n",
       "      <th>Street</th>\n",
       "      <th>Job #</th>\n",
       "      <th>Job doc. #</th>\n",
       "      <th>Job Type</th>\n",
       "      <th>Self_Cert</th>\n",
       "      <th>Block</th>\n",
       "      <th>Lot</th>\n",
       "      <th>...</th>\n",
       "      <th>Owner’s House State</th>\n",
       "      <th>Owner’s House Zip Code</th>\n",
       "      <th>Owner's Phone #</th>\n",
       "      <th>DOBRunDate</th>\n",
       "      <th>Latitude</th>\n",
       "      <th>Longitude</th>\n",
       "      <th>Council District</th>\n",
       "      <th>Census Tract</th>\n",
       "      <th>BBL</th>\n",
       "      <th>NTA</th>\n",
       "    </tr>\n",
       "  </thead>\n",
       "  <tbody>\n",
       "    <tr>\n",
       "      <td>0</td>\n",
       "      <td>BRONX</td>\n",
       "      <td>2118801</td>\n",
       "      <td>2960</td>\n",
       "      <td>WEBSTER AVENUE</td>\n",
       "      <td>201088492</td>\n",
       "      <td>4</td>\n",
       "      <td>NB</td>\n",
       "      <td>NaN</td>\n",
       "      <td>3274</td>\n",
       "      <td>4</td>\n",
       "      <td>...</td>\n",
       "      <td>NaN</td>\n",
       "      <td>NaN</td>\n",
       "      <td>NaN</td>\n",
       "      <td>2016-01-03T00:00:00</td>\n",
       "      <td>40.867490</td>\n",
       "      <td>-73.883225</td>\n",
       "      <td>11.0</td>\n",
       "      <td>425.0</td>\n",
       "      <td>2.032740e+09</td>\n",
       "      <td>Norwood                                       ...</td>\n",
       "    </tr>\n",
       "    <tr>\n",
       "      <td>1</td>\n",
       "      <td>BRONX</td>\n",
       "      <td>2096812</td>\n",
       "      <td>100</td>\n",
       "      <td>DEKRUIF PLACE</td>\n",
       "      <td>200716298</td>\n",
       "      <td>2</td>\n",
       "      <td>A2</td>\n",
       "      <td>NaN</td>\n",
       "      <td>5141</td>\n",
       "      <td>120</td>\n",
       "      <td>...</td>\n",
       "      <td>NaN</td>\n",
       "      <td>NaN</td>\n",
       "      <td>NaN</td>\n",
       "      <td>2016-01-03T00:00:00</td>\n",
       "      <td>40.875769</td>\n",
       "      <td>-73.828899</td>\n",
       "      <td>12.0</td>\n",
       "      <td>46201.0</td>\n",
       "      <td>2.051410e+09</td>\n",
       "      <td>Co-op City                                    ...</td>\n",
       "    </tr>\n",
       "    <tr>\n",
       "      <td>2</td>\n",
       "      <td>BRONX</td>\n",
       "      <td>2008604</td>\n",
       "      <td>1898</td>\n",
       "      <td>HARRISON AVENUE</td>\n",
       "      <td>200974650</td>\n",
       "      <td>2</td>\n",
       "      <td>A2</td>\n",
       "      <td>NaN</td>\n",
       "      <td>2869</td>\n",
       "      <td>87</td>\n",
       "      <td>...</td>\n",
       "      <td>NaN</td>\n",
       "      <td>NaN</td>\n",
       "      <td>NaN</td>\n",
       "      <td>2016-01-03T00:00:00</td>\n",
       "      <td>40.852603</td>\n",
       "      <td>-73.911461</td>\n",
       "      <td>14.0</td>\n",
       "      <td>243.0</td>\n",
       "      <td>2.028690e+09</td>\n",
       "      <td>University Heights-Morris Heights             ...</td>\n",
       "    </tr>\n",
       "    <tr>\n",
       "      <td>3</td>\n",
       "      <td>BRONX</td>\n",
       "      <td>2007652</td>\n",
       "      <td>1998</td>\n",
       "      <td>MORRIS AVENUE</td>\n",
       "      <td>200278118</td>\n",
       "      <td>2</td>\n",
       "      <td>A1</td>\n",
       "      <td>NaN</td>\n",
       "      <td>2807</td>\n",
       "      <td>15</td>\n",
       "      <td>...</td>\n",
       "      <td>NaN</td>\n",
       "      <td>NaN</td>\n",
       "      <td>NaN</td>\n",
       "      <td>2016-01-03T00:00:00</td>\n",
       "      <td>40.851661</td>\n",
       "      <td>-73.906937</td>\n",
       "      <td>14.0</td>\n",
       "      <td>241.0</td>\n",
       "      <td>2.028070e+09</td>\n",
       "      <td>Mount Hope                                    ...</td>\n",
       "    </tr>\n",
       "    <tr>\n",
       "      <td>4</td>\n",
       "      <td>BRONX</td>\n",
       "      <td>2084155</td>\n",
       "      <td>565</td>\n",
       "      <td>WEST  235 STREET</td>\n",
       "      <td>201119173</td>\n",
       "      <td>2</td>\n",
       "      <td>A2</td>\n",
       "      <td>Y</td>\n",
       "      <td>5794</td>\n",
       "      <td>484</td>\n",
       "      <td>...</td>\n",
       "      <td>NaN</td>\n",
       "      <td>NaN</td>\n",
       "      <td>NaN</td>\n",
       "      <td>2016-01-03T00:00:00</td>\n",
       "      <td>40.885720</td>\n",
       "      <td>-73.910270</td>\n",
       "      <td>11.0</td>\n",
       "      <td>297.0</td>\n",
       "      <td>2.057940e+09</td>\n",
       "      <td>Spuyten Duyvil-Kingsbridge                    ...</td>\n",
       "    </tr>\n",
       "  </tbody>\n",
       "</table>\n",
       "<p>5 rows × 60 columns</p>\n",
       "</div>"
      ],
      "text/plain": [
       "  BOROUGH      BIN Number            Street      Job #  Job doc. # Job Type  \\\n",
       "0   BRONX  2118801   2960    WEBSTER AVENUE  201088492           4       NB   \n",
       "1   BRONX  2096812    100     DEKRUIF PLACE  200716298           2       A2   \n",
       "2   BRONX  2008604   1898   HARRISON AVENUE  200974650           2       A2   \n",
       "3   BRONX  2007652   1998     MORRIS AVENUE  200278118           2       A1   \n",
       "4   BRONX  2084155    565  WEST  235 STREET  201119173           2       A2   \n",
       "\n",
       "  Self_Cert Block  Lot  ... Owner’s House State  Owner’s House Zip Code  \\\n",
       "0       NaN  3274    4  ...                 NaN                     NaN   \n",
       "1       NaN  5141  120  ...                 NaN                     NaN   \n",
       "2       NaN  2869   87  ...                 NaN                     NaN   \n",
       "3       NaN  2807   15  ...                 NaN                     NaN   \n",
       "4         Y  5794  484  ...                 NaN                     NaN   \n",
       "\n",
       "   Owner's Phone #           DOBRunDate   Latitude  Longitude  \\\n",
       "0              NaN  2016-01-03T00:00:00  40.867490 -73.883225   \n",
       "1              NaN  2016-01-03T00:00:00  40.875769 -73.828899   \n",
       "2              NaN  2016-01-03T00:00:00  40.852603 -73.911461   \n",
       "3              NaN  2016-01-03T00:00:00  40.851661 -73.906937   \n",
       "4              NaN  2016-01-03T00:00:00  40.885720 -73.910270   \n",
       "\n",
       "  Council District Census Tract           BBL  \\\n",
       "0             11.0        425.0  2.032740e+09   \n",
       "1             12.0      46201.0  2.051410e+09   \n",
       "2             14.0        243.0  2.028690e+09   \n",
       "3             14.0        241.0  2.028070e+09   \n",
       "4             11.0        297.0  2.057940e+09   \n",
       "\n",
       "                                                 NTA  \n",
       "0  Norwood                                       ...  \n",
       "1  Co-op City                                    ...  \n",
       "2  University Heights-Morris Heights             ...  \n",
       "3  Mount Hope                                    ...  \n",
       "4  Spuyten Duyvil-Kingsbridge                    ...  \n",
       "\n",
       "[5 rows x 60 columns]"
      ]
     },
     "execution_count": 5,
     "metadata": {},
     "output_type": "execute_result"
    }
   ],
   "source": [
    "historical_data.head()"
   ]
  },
  {
   "cell_type": "code",
   "execution_count": 8,
   "metadata": {},
   "outputs": [
    {
     "data": {
      "text/html": [
       "<div>\n",
       "<style scoped>\n",
       "    .dataframe tbody tr th:only-of-type {\n",
       "        vertical-align: middle;\n",
       "    }\n",
       "\n",
       "    .dataframe tbody tr th {\n",
       "        vertical-align: top;\n",
       "    }\n",
       "\n",
       "    .dataframe thead th {\n",
       "        text-align: right;\n",
       "    }\n",
       "</style>\n",
       "<table border=\"1\" class=\"dataframe\">\n",
       "  <thead>\n",
       "    <tr style=\"text-align: right;\">\n",
       "      <th></th>\n",
       "      <th>BIN</th>\n",
       "      <th>Job #</th>\n",
       "      <th>Job doc. #</th>\n",
       "      <th>Postcode</th>\n",
       "      <th>Bldg Type</th>\n",
       "      <th>Permit Sequence #</th>\n",
       "      <th>Latitude</th>\n",
       "      <th>Longitude</th>\n",
       "      <th>Council District</th>\n",
       "      <th>Census Tract</th>\n",
       "      <th>BBL</th>\n",
       "    </tr>\n",
       "  </thead>\n",
       "  <tbody>\n",
       "    <tr>\n",
       "      <td>count</td>\n",
       "      <td>2.428526e+06</td>\n",
       "      <td>2.428526e+06</td>\n",
       "      <td>2.428526e+06</td>\n",
       "      <td>2.427476e+06</td>\n",
       "      <td>2.374247e+06</td>\n",
       "      <td>2.428526e+06</td>\n",
       "      <td>2.419010e+06</td>\n",
       "      <td>2.419010e+06</td>\n",
       "      <td>2.419010e+06</td>\n",
       "      <td>2.419010e+06</td>\n",
       "      <td>2.398936e+06</td>\n",
       "    </tr>\n",
       "    <tr>\n",
       "      <td>mean</td>\n",
       "      <td>2.552962e+06</td>\n",
       "      <td>2.481319e+08</td>\n",
       "      <td>1.106652e+00</td>\n",
       "      <td>1.063170e+04</td>\n",
       "      <td>1.752471e+00</td>\n",
       "      <td>1.409101e+00</td>\n",
       "      <td>4.072526e+01</td>\n",
       "      <td>-7.394538e+01</td>\n",
       "      <td>2.011259e+01</td>\n",
       "      <td>6.393428e+03</td>\n",
       "      <td>2.447464e+09</td>\n",
       "    </tr>\n",
       "    <tr>\n",
       "      <td>std</td>\n",
       "      <td>1.454841e+06</td>\n",
       "      <td>1.364585e+08</td>\n",
       "      <td>3.895260e-01</td>\n",
       "      <td>5.975049e+02</td>\n",
       "      <td>4.315770e-01</td>\n",
       "      <td>9.912204e-01</td>\n",
       "      <td>7.384763e-02</td>\n",
       "      <td>8.698346e-02</td>\n",
       "      <td>1.641637e+01</td>\n",
       "      <td>2.119632e+04</td>\n",
       "      <td>1.390597e+09</td>\n",
       "    </tr>\n",
       "    <tr>\n",
       "      <td>min</td>\n",
       "      <td>1.000003e+06</td>\n",
       "      <td>1.000300e+08</td>\n",
       "      <td>1.000000e+00</td>\n",
       "      <td>0.000000e+00</td>\n",
       "      <td>1.000000e+00</td>\n",
       "      <td>1.000000e+00</td>\n",
       "      <td>4.049863e+01</td>\n",
       "      <td>-7.425482e+01</td>\n",
       "      <td>1.000000e+00</td>\n",
       "      <td>1.000000e+00</td>\n",
       "      <td>0.000000e+00</td>\n",
       "    </tr>\n",
       "    <tr>\n",
       "      <td>25%</td>\n",
       "      <td>1.043871e+06</td>\n",
       "      <td>1.043485e+08</td>\n",
       "      <td>1.000000e+00</td>\n",
       "      <td>1.002200e+04</td>\n",
       "      <td>2.000000e+00</td>\n",
       "      <td>1.000000e+00</td>\n",
       "      <td>4.068380e+01</td>\n",
       "      <td>-7.398871e+01</td>\n",
       "      <td>4.000000e+00</td>\n",
       "      <td>9.800000e+01</td>\n",
       "      <td>1.012620e+09</td>\n",
       "    </tr>\n",
       "    <tr>\n",
       "      <td>50%</td>\n",
       "      <td>2.123994e+06</td>\n",
       "      <td>2.201623e+08</td>\n",
       "      <td>1.000000e+00</td>\n",
       "      <td>1.045600e+04</td>\n",
       "      <td>2.000000e+00</td>\n",
       "      <td>1.000000e+00</td>\n",
       "      <td>4.073742e+01</td>\n",
       "      <td>-7.396169e+01</td>\n",
       "      <td>1.800000e+01</td>\n",
       "      <td>2.190000e+02</td>\n",
       "      <td>2.056260e+09</td>\n",
       "    </tr>\n",
       "    <tr>\n",
       "      <td>75%</td>\n",
       "      <td>4.032501e+06</td>\n",
       "      <td>4.005741e+08</td>\n",
       "      <td>1.000000e+00</td>\n",
       "      <td>1.122600e+04</td>\n",
       "      <td>2.000000e+00</td>\n",
       "      <td>1.000000e+00</td>\n",
       "      <td>4.076639e+01</td>\n",
       "      <td>-7.390057e+01</td>\n",
       "      <td>3.400000e+01</td>\n",
       "      <td>7.520000e+02</td>\n",
       "      <td>4.008540e+09</td>\n",
       "    </tr>\n",
       "    <tr>\n",
       "      <td>max</td>\n",
       "      <td>5.863849e+06</td>\n",
       "      <td>5.777778e+08</td>\n",
       "      <td>1.200000e+01</td>\n",
       "      <td>1.169700e+04</td>\n",
       "      <td>2.000000e+00</td>\n",
       "      <td>2.600000e+01</td>\n",
       "      <td>4.091371e+01</td>\n",
       "      <td>-7.370038e+01</td>\n",
       "      <td>5.100000e+01</td>\n",
       "      <td>1.579030e+05</td>\n",
       "      <td>5.200150e+09</td>\n",
       "    </tr>\n",
       "  </tbody>\n",
       "</table>\n",
       "</div>"
      ],
      "text/plain": [
       "                BIN         Job #    Job doc. #      Postcode     Bldg Type  \\\n",
       "count  2.428526e+06  2.428526e+06  2.428526e+06  2.427476e+06  2.374247e+06   \n",
       "mean   2.552962e+06  2.481319e+08  1.106652e+00  1.063170e+04  1.752471e+00   \n",
       "std    1.454841e+06  1.364585e+08  3.895260e-01  5.975049e+02  4.315770e-01   \n",
       "min    1.000003e+06  1.000300e+08  1.000000e+00  0.000000e+00  1.000000e+00   \n",
       "25%    1.043871e+06  1.043485e+08  1.000000e+00  1.002200e+04  2.000000e+00   \n",
       "50%    2.123994e+06  2.201623e+08  1.000000e+00  1.045600e+04  2.000000e+00   \n",
       "75%    4.032501e+06  4.005741e+08  1.000000e+00  1.122600e+04  2.000000e+00   \n",
       "max    5.863849e+06  5.777778e+08  1.200000e+01  1.169700e+04  2.000000e+00   \n",
       "\n",
       "       Permit Sequence #      Latitude     Longitude  Council District  \\\n",
       "count       2.428526e+06  2.419010e+06  2.419010e+06      2.419010e+06   \n",
       "mean        1.409101e+00  4.072526e+01 -7.394538e+01      2.011259e+01   \n",
       "std         9.912204e-01  7.384763e-02  8.698346e-02      1.641637e+01   \n",
       "min         1.000000e+00  4.049863e+01 -7.425482e+01      1.000000e+00   \n",
       "25%         1.000000e+00  4.068380e+01 -7.398871e+01      4.000000e+00   \n",
       "50%         1.000000e+00  4.073742e+01 -7.396169e+01      1.800000e+01   \n",
       "75%         1.000000e+00  4.076639e+01 -7.390057e+01      3.400000e+01   \n",
       "max         2.600000e+01  4.091371e+01 -7.370038e+01      5.100000e+01   \n",
       "\n",
       "       Census Tract           BBL  \n",
       "count  2.419010e+06  2.398936e+06  \n",
       "mean   6.393428e+03  2.447464e+09  \n",
       "std    2.119632e+04  1.390597e+09  \n",
       "min    1.000000e+00  0.000000e+00  \n",
       "25%    9.800000e+01  1.012620e+09  \n",
       "50%    2.190000e+02  2.056260e+09  \n",
       "75%    7.520000e+02  4.008540e+09  \n",
       "max    1.579030e+05  5.200150e+09  "
      ]
     },
     "execution_count": 8,
     "metadata": {},
     "output_type": "execute_result"
    }
   ],
   "source": [
    "historical_data.describe()"
   ]
  },
  {
   "cell_type": "code",
   "execution_count": 6,
   "metadata": {},
   "outputs": [
    {
     "data": {
      "text/plain": [
       "Index(['BOROUGH', 'BIN', 'Number', 'Street', 'Job #', 'Job doc. #', 'Job Type',\n",
       "       'Self_Cert', 'Block', 'Lot', 'Community Board', 'Postcode', 'Bldg Type',\n",
       "       'Residential', 'Special District 1', 'Special District 2', 'Work Type',\n",
       "       'Permit Status', 'Filing Status', 'Permit Type', 'Permit Sequence #',\n",
       "       'Permit Subtype', 'Oil Gas', 'Site Fill', 'Filing Date',\n",
       "       'Issuance Date', 'Expiration Date', 'Job Start Date',\n",
       "       'Permittee's First Name', 'Permittee's Last Name',\n",
       "       'Permittee's Business Name', 'Permittee's Phone #',\n",
       "       'Permittee's License Type', 'Permittee's License #',\n",
       "       'Act as Superintendent', 'Permittee's Other Title', 'HIC License',\n",
       "       'Site Safety Mgr's First Name', 'Site Safety Mgr's Last Name',\n",
       "       'Site Safety Mgr Business Name', 'Superintendent First & Last Name',\n",
       "       'Superintendent Business Name', 'Owner's Business Type', 'Non-Profit',\n",
       "       'Owner's Business Name', 'Owner's First Name', 'Owner's Last Name',\n",
       "       'Owner's House #', 'Owner's House Street Name', 'Owner’s House City',\n",
       "       'Owner’s House State', 'Owner’s House Zip Code', 'Owner's Phone #',\n",
       "       'DOBRunDate', 'Latitude', 'Longitude', 'Council District',\n",
       "       'Census Tract', 'BBL', 'NTA'],\n",
       "      dtype='object')"
      ]
     },
     "execution_count": 6,
     "metadata": {},
     "output_type": "execute_result"
    }
   ],
   "source": [
    "historical_data.columns"
   ]
  },
  {
   "cell_type": "code",
   "execution_count": 13,
   "metadata": {},
   "outputs": [
    {
     "data": {
      "text/plain": [
       "0.23756920864755"
      ]
     },
     "execution_count": 13,
     "metadata": {},
     "output_type": "execute_result"
    }
   ],
   "source": [
    "### Question 1\n",
    "from collections import Counter\n",
    "Counter(historical_data['Filing Status'])['RENEWAL']/len(historical_data)"
   ]
  },
  {
   "cell_type": "code",
   "execution_count": 45,
   "metadata": {},
   "outputs": [],
   "source": [
    "def get_totoal_days(row):\n",
    "    try:\n",
    "        start_day = datetime.strptime(row['Issuance Date'], '%Y-%m-%dT%H:%M:%S')\n",
    "        expire_day = datetime.strptime(row['Expiration Date'], '%Y-%m-%dT%H:%M:%S')\n",
    "    except:\n",
    "        return float('nan')\n",
    "    return (expire_day - start_day).days"
   ]
  },
  {
   "cell_type": "code",
   "execution_count": 105,
   "metadata": {},
   "outputs": [
    {
     "name": "stderr",
     "output_type": "stream",
     "text": [
      "/Users/QiaoLiu1/anaconda3/envs/micro/lib/python3.7/site-packages/numpy/core/fromnumeric.py:61: FutureWarning: \n",
      "The current behaviour of 'Series.argmax' is deprecated, use 'idxmax'\n",
      "instead.\n",
      "The behavior of 'argmax' will be corrected to return the positional\n",
      "maximum in the future. For now, use 'series.values.argmax' or\n",
      "'np.argmax(np.array(values))' to get the position of the maximum\n",
      "row.\n",
      "  return bound(*args, **kwds)\n"
     ]
    },
    {
     "data": {
      "text/plain": [
       "0.06961976341363725"
      ]
     },
     "execution_count": 105,
     "metadata": {},
     "output_type": "execute_result"
    }
   ],
   "source": [
    "historical_data['total_days'] = historical_data.apply(get_totoal_days, axis = 1)\n",
    "historical_data['longer_than_365'] = (historical_data['total_days'] > 365)\n",
    "max_bro = np.argmax(historical_data.groupby('BOROUGH')['BIN'].count())\n",
    "### Qestion 2\n",
    "number_of_issued_larger_than_365 = historical_data.groupby('BOROUGH')['longer_than_365'].sum()\n",
    "number_of_issued_total = historical_data.groupby('BOROUGH')['BIN'].count()\n",
    "number_of_issued_larger_than_365[max_bro] / number_of_issued_total[max_bro]"
   ]
  },
  {
   "cell_type": "code",
   "execution_count": 47,
   "metadata": {},
   "outputs": [],
   "source": [
    "import numpy\n",
    "\n",
    "# Polynomial Regression\n",
    "def polyfit(x, y, degree):\n",
    "    results = {}\n",
    "\n",
    "    coeffs = numpy.polyfit(x, y, degree)\n",
    "\n",
    "     # Polynomial Coefficients\n",
    "    results['polynomial'] = coeffs.tolist()\n",
    "\n",
    "    # r-squared\n",
    "    p = numpy.poly1d(coeffs)\n",
    "    # fit values, and mean\n",
    "    yhat = p(x)                         # or [p(z) for z in x]\n",
    "    ybar = numpy.sum(y)/len(y)          # or sum(y)/len(y)\n",
    "    ssreg = numpy.sum((yhat-ybar)**2)   # or sum([ (yihat - ybar)**2 for yihat in yhat])\n",
    "    sstot = numpy.sum((y - ybar)**2)    # or sum([ (yi - ybar)**2 for yi in y])\n",
    "    results['determination'] = ssreg / sstot\n",
    "\n",
    "    return results"
   ]
  },
  {
   "cell_type": "code",
   "execution_count": 53,
   "metadata": {},
   "outputs": [],
   "source": [
    "## Question 3\n",
    "historical_data['Issuance Year'] = \\\n",
    "historical_data['Issuance Date'].apply(lambda x: datetime.strptime(x, '%Y-%m-%dT%H:%M:%S').year)\n",
    "year_issue_num = historical_data.groupby(['Issuance Year'])['Number'].count()\n",
    "polyfit(year_issue_num.index[1:-1], year_issue_num[1:-1], 1) ## select 1990-2012"
   ]
  },
  {
   "cell_type": "code",
   "execution_count": 58,
   "metadata": {},
   "outputs": [
    {
     "data": {
      "text/plain": [
       "<matplotlib.axes._subplots.AxesSubplot at 0x7f92b064cbe0>"
      ]
     },
     "execution_count": 58,
     "metadata": {},
     "output_type": "execute_result"
    },
    {
     "data": {
      "image/png": "[encoded data removed]",
      "text/plain": [
       "<Figure size 432x288 with 1 Axes>"
      ]
     },
     "metadata": {
      "needs_background": "light"
     },
     "output_type": "display_data"
    }
   ],
   "source": [
    "import seaborn as sns\n",
    "sns.distplot(historical_data[~historical_data['total_days'].isna()]['total_days'])"
   ]
  },
  {
   "cell_type": "code",
   "execution_count": 91,
   "metadata": {},
   "outputs": [],
   "source": [
    "def get_month(s):\n",
    "    try:\n",
    "        return datetime.strptime(s, '%Y-%m-%dT%H:%M:%S').month\n",
    "    except:\n",
    "        return float('nan')"
   ]
  },
  {
   "cell_type": "code",
   "execution_count": 107,
   "metadata": {},
   "outputs": [],
   "source": [
    "def get_year(s):\n",
    "    try:\n",
    "        return datetime.strptime(s, '%Y-%m-%dT%H:%M:%S').year\n",
    "    except:\n",
    "        return float('nan')"
   ]
  },
  {
   "cell_type": "code",
   "execution_count": 75,
   "metadata": {},
   "outputs": [],
   "source": [
    "sub_historical_data = historical_data[(historical_data['Issuance Year'] <= 2012) & \n",
    "                                      (historical_data['Issuance Year'] >= 1990)]\n",
    "sub_historical_data['longer_than_60'] = sub_historical_data['total_days'] >= 60\n",
    "sub_historical_data['less_than_60'] = sub_historical_data['total_days'] < 60\n",
    "sub_historical_data['job_start_month'] = sub_historical_data['Job Start Date'].apply(get_month)\n",
    "sub_historical_data_sub = sub_historical_data[~sub_historical_data['job_start_month'].isna()]\n",
    "def is_nov(month):\n",
    "    return 'yes' if month == 11 else 'no'\n",
    "\n",
    "sub_historical_data_sub['is_nov'] = sub_historical_data_sub['job_start_month'].apply(is_nov)\n",
    "\n",
    "##### Question 4\n",
    "question_4_df = sub_historical_data_sub.groupby('is_nov')[['longer_than_60', 'less_than_60']].sum()\n",
    "from scipy.stats import chi2_contingency\n",
    "chi2_contingency(question_4_df.loc[['yes', 'no'], question_3_df.columns[::-1]].values)"
   ]
  },
  {
   "cell_type": "code",
   "execution_count": 106,
   "metadata": {},
   "outputs": [
    {
     "data": {
      "text/plain": [
       "1.0805818771914573"
      ]
     },
     "execution_count": 106,
     "metadata": {},
     "output_type": "execute_result"
    }
   ],
   "source": [
    "##### Question 5\n",
    "renew = historical_data[historical_data['Filing Status'] == 'RENEWAL']\n",
    "grouped_renew = renew.groupby('Owner\\'s Business Type')['Number'].count()\n",
    "grouped_renew['CORPORATION']/grouped_renew['INDIVIDUAL']"
   ]
  },
  {
   "cell_type": "code",
   "execution_count": 142,
   "metadata": {},
   "outputs": [],
   "source": [
    "def correct_zip_format(x):\n",
    "    if isinstance(x, float):\n",
    "        return str(int(x)).zfill(5)\n",
    "    elif isinstance(x, str):\n",
    "        return x.zfill(5)\n",
    "    else:\n",
    "        print(x)\n",
    "        return float('nan')"
   ]
  },
  {
   "cell_type": "code",
   "execution_count": 152,
   "metadata": {},
   "outputs": [
    {
     "name": "stderr",
     "output_type": "stream",
     "text": [
      "/Users/QiaoLiu1/anaconda3/envs/micro/lib/python3.7/site-packages/ipykernel_launcher.py:5: SettingWithCopyWarning: \n",
      "A value is trying to be set on a copy of a slice from a DataFrame.\n",
      "Try using .loc[row_indexer,col_indexer] = value instead\n",
      "\n",
      "See the caveats in the documentation: http://pandas.pydata.org/pandas-docs/stable/user_guide/indexing.html#returning-a-view-versus-a-copy\n",
      "  \"\"\"\n"
     ]
    }
   ],
   "source": [
    "#### Question 6\n",
    "historical_data['filing_year'] = historical_data['Filing Date'].apply(get_year)\n",
    "only_2010 = historical_data[(historical_data['filing_year'] == 2010) & \n",
    "                            (~only_2010['Postcode'].isna())]\n",
    "only_2010['Zip Code'] = only_2010['Postcode'].apply(correct_zip_format)\n",
    "zip_count = only_2010.groupby('Zip Code')['Number'].count().reset_index()"
   ]
  },
  {
   "cell_type": "code",
   "execution_count": 168,
   "metadata": {},
   "outputs": [],
   "source": [
    "census = pd.read_csv('/Users/QiaoLiu1/Downloads/2010+Census+Population+By+Zipcode+(ZCTA).csv')\n",
    "census['Zip Code'] = census['Zip Code ZCTA'].apply(lambda x: str(x).zfill(5))\n",
    "common_zip = zip_count.merge(census, on = 'Zip Code')\n",
    "common_zip = common_zip[common_zip['2010 Census Population']>1000]\n",
    "common_zip['ratio'] = common_zip['Number'] / common_zip['2010 Census Population']\n",
    "mean_c, std_c = np.mean(common_zip['ratio']), np.std(common_zip['ratio'])\n",
    "lower_limit, upper_limit = mean_c - 2*std_c, mean_c+2*std_c\n",
    "sum((common_zip['ratio'] > upper_limit) | (common_zip['ratio'] < lower_limit))"
   ]
  },
  {
   "cell_type": "code",
   "execution_count": 181,
   "metadata": {},
   "outputs": [
    {
     "name": "stderr",
     "output_type": "stream",
     "text": [
      "/Users/QiaoLiu1/anaconda3/envs/micro/lib/python3.7/site-packages/ipykernel_launcher.py:5: SettingWithCopyWarning: \n",
      "A value is trying to be set on a copy of a slice from a DataFrame.\n",
      "Try using .loc[row_indexer,col_indexer] = value instead\n",
      "\n",
      "See the caveats in the documentation: http://pandas.pydata.org/pandas-docs/stable/user_guide/indexing.html#returning-a-view-versus-a-copy\n",
      "  \"\"\"\n",
      "/Users/QiaoLiu1/anaconda3/envs/micro/lib/python3.7/site-packages/ipykernel_launcher.py:7: SettingWithCopyWarning: \n",
      "A value is trying to be set on a copy of a slice from a DataFrame.\n",
      "Try using .loc[row_indexer,col_indexer] = value instead\n",
      "\n",
      "See the caveats in the documentation: http://pandas.pydata.org/pandas-docs/stable/user_guide/indexing.html#returning-a-view-versus-a-copy\n",
      "  import sys\n",
      "/Users/QiaoLiu1/anaconda3/envs/micro/lib/python3.7/site-packages/ipykernel_launcher.py:9: SettingWithCopyWarning: \n",
      "A value is trying to be set on a copy of a slice from a DataFrame.\n",
      "Try using .loc[row_indexer,col_indexer] = value instead\n",
      "\n",
      "See the caveats in the documentation: http://pandas.pydata.org/pandas-docs/stable/user_guide/indexing.html#returning-a-view-versus-a-copy\n",
      "  if __name__ == '__main__':\n"
     ]
    }
   ],
   "source": [
    "### Question 7\n",
    "# historical_data['job_start_year'] = historical_data['Job Start Date'].apply(get_year)\n",
    "# sub_historical_data_job_start = historical_data[(historical_data['job_start_year'] <= 2012) & \n",
    "#                                       (historical_data['job_start_year'] >= 1990)]\n",
    "sub_historical_data_job_start['job_start_month'] = sub_historical_data_job_start['Job Start Date'].apply(get_month)\n",
    "sub_historical_data_job_start['job_in_summer'] = \\\n",
    "(sub_historical_data_job_start['job_start_month'] == 7) | (sub_historical_data_job_start['job_start_month'] == 8)\n",
    "sub_historical_data_job_start['job_in_winter'] = \\\n",
    "(sub_historical_data_job_start['job_start_month'] == 1) | (sub_historical_data_job_start['job_start_month'] == 2)\n",
    "question7_df = sub_historical_data_job_start.groupby('job_start_year')[['job_in_summer','job_in_winter']].sum()"
   ]
  },
  {
   "cell_type": "code",
   "execution_count": 187,
   "metadata": {},
   "outputs": [],
   "source": [
    "question7_df['ratio'] = question7_df['job_in_summer'] / question7_df['job_in_winter']"
   ]
  },
  {
   "cell_type": "code",
   "execution_count": 190,
   "metadata": {},
   "outputs": [
    {
     "data": {
      "text/plain": [
       "job_start_year\n",
       "1990.0    3.804956\n",
       "1991.0    1.344280\n",
       "1992.0    1.139230\n",
       "1993.0    1.312106\n",
       "1994.0    1.303652\n",
       "1995.0    1.139119\n",
       "1996.0    1.419233\n",
       "1997.0    1.275868\n",
       "1998.0    1.225987\n",
       "1999.0    1.306399\n",
       "2000.0    1.316252\n",
       "2001.0    1.273031\n",
       "2002.0    1.248324\n",
       "2003.0    1.270409\n",
       "2004.0    1.568739\n",
       "2005.0    1.406682\n",
       "2006.0    1.281117\n",
       "2007.0    1.339447\n",
       "2008.0    1.148299\n",
       "2009.0    1.221909\n",
       "2010.0    1.440211\n",
       "2011.0    1.351934\n",
       "2012.0    1.186325\n",
       "Name: ratio, dtype: float64"
      ]
     },
     "execution_count": 190,
     "metadata": {},
     "output_type": "execute_result"
    }
   ],
   "source": [
    "question7_df.ratio"
   ]
  },
  {
   "cell_type": "code",
   "execution_count": null,
   "metadata": {},
   "outputs": [],
   "source": []
  }
 ],
 "metadata": {
  "kernelspec": {
   "display_name": "Python 3",
   "language": "python",
   "name": "python3"
  },
  "language_info": {
   "codemirror_mode": {
    "name": "ipython",
    "version": 3
   },
   "file_extension": ".py",
   "mimetype": "text/x-python",
   "name": "python",
   "nbconvert_exporter": "python",
   "pygments_lexer": "ipython3",
   "version": "3.7.1"
  }
 },
 "nbformat": 4,
 "nbformat_minor": 2
}
